{
  "nbformat": 4,
  "nbformat_minor": 0,
  "metadata": {
    "colab": {
      "provenance": []
    },
    "kernelspec": {
      "name": "python3",
      "display_name": "Python 3"
    },
    "language_info": {
      "name": "python"
    }
  },
  "cells": [
    {
      "cell_type": "code",
      "execution_count": null,
      "metadata": {
        "id": "QdiXcGB3Qr3D"
      },
      "outputs": [],
      "source": [
        "import os\n",
        "import random\n",
        "import cv2\n",
        "import numpy as np\n",
        "import matplotlib.pyplot as plt\n",
        "from keras.utils import to_categorical\n",
        "from sklearn.model_selection import cross_val_score\n",
        "from keras.wrappers.scikit_learn import KerasClassifier\n",
        "from shutil import copyfile\n",
        "from keras import datasets, layers, models\n",
        "from sklearn.model_selection import train_test_split\n",
        "from keras.utils import normalize\n",
        "from sklearn.model_selection import GridSearchCV\n",
        "\n"
      ]
    },
    {
      "cell_type": "code",
      "source": [
        "from google.colab import drive\n",
        "drive.mount('/content/drive')"
      ],
      "metadata": {
        "colab": {
          "base_uri": "https://localhost:8080/"
        },
        "id": "yKZ3swGLQzwW",
        "outputId": "559ce188-7850-42ef-bbaa-57343557ba66"
      },
      "execution_count": null,
      "outputs": [
        {
          "output_type": "stream",
          "name": "stdout",
          "text": [
            "Drive already mounted at /content/drive; to attempt to forcibly remount, call drive.mount(\"/content/drive\", force_remount=True).\n"
          ]
        }
      ]
    },
    {
      "cell_type": "markdown",
      "source": [
        "#Loading the data,clean, transform"
      ],
      "metadata": {
        "id": "KirQzR2eSNNQ"
      }
    },
    {
      "cell_type": "code",
      "source": [
        "data_dir = \"/content/drive/MyDrive/ML/data/\"\n",
        "\n",
        "data = []\n",
        "labels = []\n",
        "\n",
        "# Create Directory for two classes\n",
        "for label in  [\"NoSunglasses/\",\"Sunglassess/\"]:\n",
        "  full_path = os.path.join(data_dir, label)\n",
        "  for image in os.listdir(full_path): \n",
        "    full_path_img = os.path.join(full_path, image) \n",
        "    img = cv2.imread(full_path_img, cv2.IMREAD_GRAYSCALE)\n",
        "    resized_img = cv2.resize(img, (64, 64))\n",
        "    data.append(resized_img)\n",
        "    if 'NoSunglasses' in str(full_path_img):\n",
        "      labels.append(0)\n",
        "    else:\n",
        "      labels.append(1)\n",
        "\n",
        "# reshape and normalize the data\n",
        "X = np.array(data)\n",
        "X = X.reshape(-1, 64, 64, 1)\n",
        "X = normalize(X, axis=1)\n",
        "y = to_categorical(labels)\n"
      ],
      "metadata": {
        "id": "iD5jwrxNZNby"
      },
      "execution_count": null,
      "outputs": []
    },
    {
      "cell_type": "markdown",
      "source": [
        "##train/validation/test split"
      ],
      "metadata": {
        "id": "dcNcJuA8QUxo"
      }
    },
    {
      "cell_type": "code",
      "source": [
        "# Split to training and testing sets\n",
        "X_train, X_test, y_train, y_test = train_test_split(X, y, test_size=0.3, random_state=42)\n",
        "\n",
        "# Split the testing set into testing and validation sets\n",
        "X_test, X_val, y_test, y_val = train_test_split(X_test, y_test, test_size=0.5, random_state=42)"
      ],
      "metadata": {
        "id": "N34QAapUoq6E"
      },
      "execution_count": null,
      "outputs": []
    },
    {
      "cell_type": "code",
      "source": [
        "# #Our CNN model\n",
        "def create_model(optimizer='rmsprop'):\n",
        "  model = models.Sequential()\n",
        "  model.add(layers.Conv2D(32, (3, 3), activation='relu', input_shape=(64, 64, 1)))\n",
        "  model.add(layers.MaxPooling2D((2, 2)))\n",
        "  model.add(layers.Conv2D(64, (3, 3), activation='relu'))\n",
        "  model.add(layers.MaxPooling2D((2, 2)))\n",
        "  model.add(layers.Conv2D(64, (3, 3), activation='relu'))\n",
        "  model.add(layers.MaxPooling2D((2, 2)))\n",
        "  model.add(layers.Conv2D(64, (3, 3), activation='relu'))\n",
        "  model.add(layers.Flatten())\n",
        "  model.add(layers.Dense(64, activation='relu'))\n",
        "  model.add(layers.Dense(2, activation='softmax'))\n",
        "  model.compile(optimizer = optimizer,\n",
        "              loss='binary_crossentropy',\n",
        "              metrics=['accuracy'])\n",
        "\n",
        "  return model"
      ],
      "metadata": {
        "id": "QiFGy2hnS5iM"
      },
      "execution_count": null,
      "outputs": []
    },
    {
      "cell_type": "markdown",
      "source": [
        "#Example of train model"
      ],
      "metadata": {
        "id": "bXC1KCztScL2"
      }
    },
    {
      "cell_type": "code",
      "source": [
        "# Create and training Our model\n",
        "model = create_model()\n",
        "history = model.fit(X_train, y_train, epochs=30,validation_data=(X_val, y_val), verbose=0)"
      ],
      "metadata": {
        "id": "X7mE0UtPfYVw"
      },
      "execution_count": null,
      "outputs": []
    },
    {
      "cell_type": "code",
      "source": [
        "# Evaluate the model\n",
        "plt.plot(history.history['accuracy'], label='accuracy')\n",
        "plt.plot(history.history['val_accuracy'], label = 'val_accuracy')\n",
        "plt.xlabel('Epoch')\n",
        "plt.ylabel('Accuracy')\n",
        "plt.ylim([0.5, 1])\n",
        "plt.legend(loc='lower right')\n",
        "\n",
        "test_loss, test_acc = model.evaluate(X_test,  y_test, verbose=2)"
      ],
      "metadata": {
        "colab": {
          "base_uri": "https://localhost:8080/",
          "height": 301
        },
        "id": "MLVlMjD-f4kO",
        "outputId": "644964c6-63a6-47f3-e84d-89dd6467e025"
      },
      "execution_count": null,
      "outputs": [
        {
          "output_type": "stream",
          "name": "stdout",
          "text": [
            "3/3 - 0s - loss: 0.1361 - accuracy: 0.9468 - 145ms/epoch - 48ms/step\n"
          ]
        },
        {
          "output_type": "display_data",
          "data": {
            "text/plain": [
              "<Figure size 432x288 with 1 Axes>"
            ],
            "image/png": "[encoded data removed]"
          },
          "metadata": {
            "needs_background": "light"
          }
        }
      ]
    },
    {
      "cell_type": "markdown",
      "source": [
        "#Grid Search"
      ],
      "metadata": {
        "id": "n0AtLtycDFyX"
      }
    },
    {
      "cell_type": "code",
      "source": [
        "# That the parms that we will check who are the best\n",
        "params = {\n",
        "'epochs': [10,20,30],\n",
        "'optimizer': ['adam','sgd','rmsprop'],\n",
        "\"batch_size\": [16, 32, 64]}\n",
        "\n",
        "# Apply grid search\n",
        "model = KerasClassifier(build_fn=create_model, verbose=0)\n",
        "\n",
        "grid = GridSearchCV(estimator=model, param_grid=params, cv=2)\n",
        "grid_result = grid.fit(X_train, y_train,validation_data=(X_val, y_val))"
      ],
      "metadata": {
        "colab": {
          "base_uri": "https://localhost:8080/"
        },
        "id": "RV9hyZKzkCqi",
        "outputId": "a80be12b-99b8-43f0-8455-0303f44ec048"
      },
      "execution_count": null,
      "outputs": [
        {
          "output_type": "stream",
          "name": "stderr",
          "text": [
            "<ipython-input-146-ad969c1dfa5c>:6: DeprecationWarning: KerasClassifier is deprecated, use Sci-Keras (https://github.com/adriangb/scikeras) instead. See https://www.adriangb.com/scikeras/stable/migration.html for help migrating.\n",
            "  model = KerasClassifier(build_fn=create_model, verbose=0)\n"
          ]
        }
      ]
    },
    {
      "cell_type": "code",
      "source": [
        "print(\"Best: %f using %s\" % (grid_result.best_score_, grid_result.best_params_))"
      ],
      "metadata": {
        "colab": {
          "base_uri": "https://localhost:8080/"
        },
        "id": "kTYvhEnIxDsJ",
        "outputId": "e001a098-fdc1-4a5b-944b-a2c273110842"
      },
      "execution_count": null,
      "outputs": [
        {
          "output_type": "stream",
          "name": "stdout",
          "text": [
            "Best: 0.922018 using {'batch_size': 16, 'epochs': 30, 'optimizer': 'rmsprop'}\n"
          ]
        }
      ]
    },
    {
      "cell_type": "markdown",
      "source": [
        "The Best Model"
      ],
      "metadata": {
        "id": "Pczup_sGRGUv"
      }
    },
    {
      "cell_type": "code",
      "source": [
        "best_model = create_model(grid_result.best_params_['optimizer'])\n",
        "history_best_model = best_model.fit(X_train, y_train, batch_size=grid_result.best_params_['batch_size'] ,epochs=grid_result.best_params_['epochs'], \n",
        "                    validation_data=(X_val, y_val),verbose=0)\n",
        "\n",
        "plt.plot(history_best_model.history['accuracy'], label='accuracy')\n",
        "plt.plot(history_best_model.history['val_accuracy'], label = 'val_accuracy')\n",
        "plt.xlabel('Epoch')\n",
        "plt.ylabel('Accuracy')\n",
        "plt.ylim([0.5, 1])\n",
        "plt.legend(loc='lower right')\n",
        "\n",
        "test_loss, test_acc = best_model.evaluate(X_test,  y_test, verbose=0)"
      ],
      "metadata": {
        "colab": {
          "base_uri": "https://localhost:8080/",
          "height": 283
        },
        "id": "lOb0-g2JzsmF",
        "outputId": "4b2c3604-3d10-4746-ea2e-97879d100f04"
      },
      "execution_count": null,
      "outputs": [
        {
          "output_type": "display_data",
          "data": {
            "text/plain": [
              "<Figure size 432x288 with 1 Axes>"
            ],
            "image/png": "[encoded data removed]"
          },
          "metadata": {
            "needs_background": "light"
          }
        }
      ]
    },
    {
      "cell_type": "markdown",
      "source": [
        "Answer the next questions:\n",
        "1. Does the model overfit?\n",
        "2. What's the effect of batch size? In general, do you see this effect in the current task?\n",
        "3. What was the optimal optimizer? Explain."
      ],
      "metadata": {
        "id": "aHlFgpQs2xRO"
      }
    },
    {
      "cell_type": "markdown",
      "source": [
        "1. Does the model overfit?"
      ],
      "metadata": {
        "id": "DygTescs4Q5x"
      }
    },
    {
      "cell_type": "code",
      "source": [
        "test_loss, train_acc = best_model.evaluate(X_train,  y_train, verbose=2)\n",
        "print(f\"accuracy Train:{train_acc}\")\n",
        "test_loss, test_acc = best_model.evaluate(X_test,  y_test, verbose=2)\n",
        "print(f\"accuracy Test:{test_acc}\")"
      ],
      "metadata": {
        "colab": {
          "base_uri": "https://localhost:8080/"
        },
        "id": "1PZumCIQ2xCj",
        "outputId": "092cc365-abe3-4832-e8f5-d9d5ca661fe4"
      },
      "execution_count": null,
      "outputs": [
        {
          "output_type": "stream",
          "name": "stdout",
          "text": [
            "14/14 - 1s - loss: 0.0017 - accuracy: 1.0000 - 637ms/epoch - 45ms/step\n",
            "accuracy Train:1.0\n",
            "3/3 - 0s - loss: 0.1756 - accuracy: 0.9681 - 148ms/epoch - 49ms/step\n",
            "accuracy Test:0.9680851101875305\n"
          ]
        }
      ]
    },
    {
      "cell_type": "code",
      "source": [
        "model = KerasClassifier(build_fn=create_model,batch_size=grid_result.best_params_['batch_size'] ,epochs=grid_result.best_params_['epochs'],verbose = 0)\n",
        "scores = cross_val_score(model, X_train, y_train, cv=4)\n",
        "print(\"Cross validation accuracy: %.2f%% (%.2f%%)\" % (scores.mean()*100, scores.std()*100))"
      ],
      "metadata": {
        "colab": {
          "base_uri": "https://localhost:8080/"
        },
        "id": "_b7z9liI6tFi",
        "outputId": "54c512a8-ec1e-45a5-9089-10ca82196307"
      },
      "execution_count": null,
      "outputs": [
        {
          "output_type": "stream",
          "name": "stderr",
          "text": [
            "<ipython-input-152-4375c297cc06>:1: DeprecationWarning: KerasClassifier is deprecated, use Sci-Keras (https://github.com/adriangb/scikeras) instead. See https://www.adriangb.com/scikeras/stable/migration.html for help migrating.\n",
            "  model = KerasClassifier(build_fn=create_model,batch_size=grid_result.best_params_['batch_size'] ,epochs=grid_result.best_params_['epochs'],verbose = 0)\n"
          ]
        },
        {
          "output_type": "stream",
          "name": "stdout",
          "text": [
            "Cross validation accuracy: 97.02% (1.36%)\n"
          ]
        }
      ]
    },
    {
      "cell_type": "markdown",
      "source": [
        "Based on the results Acuuracy Train 100% and Acuuracy Test of 96%, because the accuracy of the train is 100% this shows that there is a little overfitting, but the performance on the test is high(a small gap between the train to test set),so it can be said that there is no overfitting.\n",
        "In the cross validation, it can be seen that the accuracy of the model has decreased slightly and close to the test accuracy.\n",
        "And so you can say that there are almost none overfitting.\n"
      ],
      "metadata": {
        "id": "t31-sXlh4Uvj"
      }
    },
    {
      "cell_type": "markdown",
      "source": [
        "2.What's the effect of batch size? In general, do you see this effect in the current task?"
      ],
      "metadata": {
        "id": "4RZLtC5aaZAt"
      }
    },
    {
      "cell_type": "markdown",
      "source": [
        "Batch size is a hyperparameter that refers to the number of samples used in one iteration of training. In other words, it determines the number of samples that are processed by the model before the weights are updated. \n",
        "During training, the model's parameters are updated after each batch of data is processed.\n",
        "\n",
        "The batch size can have a significant impact on the training process. A larger batch size can lead to a more stable gradient and faster training, as it makes better use of hardware such as GPU, but can lead to overfitting. On the other hand, a smaller batch size may take longer to train but may be more memory efficient, as it allows for more frequent weight updates, which can help the model converge faster and result in a better generalization performance but which can introduce noise to model.\n",
        "\n",
        "In our task, we tested various batch sizes in order to find the optimal setting for our model and dataset. We tried batch sizes of 16, 32, 64 and found that the smallest batch size of 16 led to the best performance.\n",
        "This smaller batch size added noise to the training process, which helped to prevent overfitting.\n",
        "Our results indicate that a batch size of 16 is the optimal setting for this task.\n",
        "\n",
        "\n"
      ],
      "metadata": {
        "id": "hIjXBNp8a462"
      }
    },
    {
      "cell_type": "markdown",
      "source": [
        "3.What was the optimal optimizer? Explain"
      ],
      "metadata": {
        "id": "iEU7KfbLaHPb"
      }
    },
    {
      "cell_type": "markdown",
      "source": [
        "There could be several reasons why RMSprop was determined to be the best optimizer in our grid search.\n",
        "One possibility is that it is particularly well-suited to the specific architecture and dataset you were working with.\n",
        "RMSprop is an adaptive learning rate optimization algorithm, which means that it automatically adjusts the learning rate of the model during training. \n",
        "This can help the model converge faster and avoid getting stuck in local minima.\n",
        "Additionally, RMSprop is designed to work well with neural networks, which  type of our model you were use."
      ],
      "metadata": {
        "id": "kZp7RzTqaTw7"
      }
    }
  ]
}